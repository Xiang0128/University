{
 "cells": [
  {
   "cell_type": "code",
   "execution_count": 43,
   "id": "861e01f1",
   "metadata": {},
   "outputs": [
    {
     "name": "stdout",
     "output_type": "stream",
     "text": [
      "總成績：399\n"
     ]
    }
   ],
   "source": [
    "students = [\n",
    "    [\"Alice\",88,17],\n",
    "    [\"Bob\",92,21],\n",
    "    [\"Charlie\",75,19],\n",
    "    [\"David\",65,22],\n",
    "    [\"Eve\",79,20]\n",
    "]\n",
    "\n",
    "total_grades=0\n",
    "\n",
    "for i in range(0,5):\n",
    "    total_grades += students[i][1]\n",
    "print(\"總成績：%d\"%total_grades)"
   ]
  },
  {
   "cell_type": "code",
   "execution_count": 42,
   "id": "4e05eff4",
   "metadata": {},
   "outputs": [
    {
     "name": "stdout",
     "output_type": "stream",
     "text": [
      "總成績：399\n",
      "平均成績：79.8\n"
     ]
    }
   ],
   "source": [
    "students = [\n",
    "    [\"Alice\",88,17],\n",
    "    [\"Bob\",92,21],\n",
    "    [\"Charlie\",75,19],\n",
    "    [\"David\",65,22],\n",
    "    [\"Eve\",79,20]\n",
    "]\n",
    "\n",
    "total_grades=0\n",
    "average_grades=0\n",
    "\n",
    "for i in range(0,5):\n",
    "    total_grades += students[i][1]\n",
    "print(\"總成績：%d\"%total_grades)\n",
    "\n",
    "average_grades=total_grades/5\n",
    "print(\"平均成績：%.1f\"%average_grades)"
   ]
  },
  {
   "cell_type": "code",
   "execution_count": 41,
   "id": "c9649d7b",
   "metadata": {},
   "outputs": [
    {
     "name": "stdout",
     "output_type": "stream",
     "text": [
      "總成績：399\n",
      "平均成績：79.8\n",
      "成績高於平均分的學生：\n",
      "- Alice , 成績： 88\n",
      "- Bob , 成績： 92\n"
     ]
    }
   ],
   "source": [
    "students = [\n",
    "    [\"Alice\",88,17],\n",
    "    [\"Bob\",92,21],\n",
    "    [\"Charlie\",75,19],\n",
    "    [\"David\",65,22],\n",
    "    [\"Eve\",79,20]\n",
    "]\n",
    "\n",
    "total_grades=0\n",
    "average_grades=0\n",
    "\n",
    "for i in range(0,5):\n",
    "    total_grades += students[i][1]\n",
    "print(\"總成績：%d\"%total_grades)\n",
    "\n",
    "average_grades=total_grades/5\n",
    "print(\"平均成績：%.1f\"%average_grades)\n",
    "\n",
    "print(\"成績高於平均分的學生：\")\n",
    "for i in range(0,5):\n",
    "    if students[i][1] > average_grades:\n",
    "        print(\"-\",students[i][0],\",\",\"成績：\",students[i][1])"
   ]
  },
  {
   "cell_type": "code",
   "execution_count": 40,
   "id": "6f5deb69",
   "metadata": {},
   "outputs": [
    {
     "name": "stdout",
     "output_type": "stream",
     "text": [
      "總成績:399\n",
      "平均成績:79.8\n",
      "成績高於平均分的學生:\n",
      "- Bob , 成績: 92\n",
      "- Alice , 成績: 88\n",
      "\n",
      "符合額外條件的學生:\n",
      "- Bob , 年齡: 21 , 成績: 92\n"
     ]
    }
   ],
   "source": [
    "students = [\n",
    "    [\"Alice\",88,17],\n",
    "    [\"Bob\",92,21],\n",
    "    [\"Charlie\",75,19],\n",
    "    [\"David\",65,22],\n",
    "    [\"Eve\",79,20]\n",
    "]\n",
    "\n",
    "total_grades=0\n",
    "average_grades=0\n",
    "\n",
    "for i in range(0,5):\n",
    "    total_grades += students[i][1]\n",
    "print(\"總成績:%d\"%total_grades)\n",
    "\n",
    "average_grades=total_grades/5\n",
    "print(\"平均成績:%.1f\"%average_grades)\n",
    "\n",
    "print(\"成績高於平均分的學生:\")\n",
    "for i in range(0,5):\n",
    "    students.sort(reverse=True)\n",
    "    if students[i][1] > average_grades:\n",
    "        print(\"-\",students[i][0],\",\",\"成績:\",students[i][1])\n",
    "\n",
    "print(\"\") \n",
    "print(\"符合額外條件的學生:\")\n",
    "for i in range(0,5):\n",
    "    if students[i][2] >= 20 and students[i][1] > average_grades:\n",
    "        print(\"-\",students[i][0],\",\",\"年齡:\",students[i][2],\",\",\"成績:\",students[i][1])"
   ]
  },
  {
   "cell_type": "code",
   "execution_count": 59,
   "id": "72466593",
   "metadata": {},
   "outputs": [
    {
     "name": "stdout",
     "output_type": "stream",
     "text": [
      "請輸入資料([姓名,成績,年齡])：[\"Alice\",88,17]\n",
      "['[\"Alice\",88,17]']\n"
     ]
    }
   ],
   "source": [
    "# 加分題\n",
    "student=[]\n",
    "ins = input(\"請輸入資料([姓名,成績,年齡])：\")\n",
    "student.append(ins)\n",
    "print(student)"
   ]
  }
 ],
 "metadata": {
  "kernelspec": {
   "display_name": "Python 3 (ipykernel)",
   "language": "python",
   "name": "python3"
  },
  "language_info": {
   "codemirror_mode": {
    "name": "ipython",
    "version": 3
   },
   "file_extension": ".py",
   "mimetype": "text/x-python",
   "name": "python",
   "nbconvert_exporter": "python",
   "pygments_lexer": "ipython3",
   "version": "3.9.12"
  }
 },
 "nbformat": 4,
 "nbformat_minor": 5
}
