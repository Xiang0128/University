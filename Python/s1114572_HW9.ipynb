{
  "nbformat": 4,
  "nbformat_minor": 0,
  "metadata": {
    "colab": {
      "provenance": []
    },
    "kernelspec": {
      "name": "python3",
      "display_name": "Python 3"
    },
    "language_info": {
      "name": "python"
    }
  },
  "cells": [
    {
      "cell_type": "code",
      "source": [
        "import pandas as pd\n",
        "\n",
        "data = {\n",
        "    \"Order_ID\": [1001, 1002, 1003, 1004, 1005],\n",
        "    \"Product\": [\"Smartphone\", \"Laptop\", \"Desk Chair\", \"Monitor\", \"Coffee Table\"],\n",
        "    \"Category\": [\"Electronics\", \"Electronics\", \"Furniture\", \"Electronics\", \"Furniture\"],\n",
        "    \"Quantity\": [2, 1, 3, 2, 1],\n",
        "    \"Price\": [500.00, 1200.00, 150.00, 300.00, 250.00],\n",
        "    \"Total_Sales\": [1000.00, 1200.00, 450.00, 600.00, 250.00],\n",
        "    \"Date\": [\"2023-01-15\", \"2023-01-17\", \"2023-01-18\", \"2023-01-20\", \"2023-01-22\"],\n",
        "    \"Region\": [\"East\", \"West\", \"North\", \"South\", \"East\"]\n",
        "}\n",
        "\n",
        "# 1. 將數據轉換為 Pandas 的 DataFrame\n",
        "df = pd.DataFrame(data)"
      ],
      "metadata": {
        "id": "CjeCCumd1IOy"
      },
      "execution_count": null,
      "outputs": []
    },
    {
      "cell_type": "code",
      "source": [
        "import pandas as pd\n",
        "\n",
        "data = {\n",
        "    \"Order_ID\": [1001, 1002, 1003, 1004, 1005],\n",
        "    \"Product\": [\"Smartphone\", \"Laptop\", \"Desk Chair\", \"Monitor\", \"Coffee Table\"],\n",
        "    \"Category\": [\"Electronics\", \"Electronics\", \"Furniture\", \"Electronics\", \"Furniture\"],\n",
        "    \"Quantity\": [2, 1, 3, 2, 1],\n",
        "    \"Price\": [500.00, 1200.00, 150.00, 300.00, 250.00],\n",
        "    \"Total_Sales\": [1000.00, 1200.00, 450.00, 600.00, 250.00],\n",
        "    \"Date\": [\"2023-01-15\", \"2023-01-17\", \"2023-01-18\", \"2023-01-20\", \"2023-01-22\"],\n",
        "    \"Region\": [\"East\", \"West\", \"North\", \"South\", \"East\"]\n",
        "}\n",
        "\n",
        "# 1. 將數據轉換為 Pandas 的 DataFrame\n",
        "df = pd.DataFrame(data)\n",
        "\n",
        "# 2. 完成分析\n",
        "# (a) 哪個類別（Category）的銷售總額（Total_Sales）最高？\n",
        "category_sales = df.groupby(\"Category\")[\"Total_Sales\"].sum()\n",
        "top_category = category_sales.idxmax()\n",
        "\n",
        "# (b) 哪個地區（Region）的銷售筆數（Order_ID）最多？\n",
        "region_sales_count = df.groupby(\"Region\")[\"Order_ID\"].count()\n",
        "top_region = region_sales_count.idxmax()\n",
        "\n",
        "# (c) 1 月份（Date 在 2023 年 1 月）的銷售總額是多少？\n",
        "df[\"Date\"] = pd.to_datetime(df[\"Date\"])  # 將日期轉換為 datetime 格式\n",
        "january_sales = df[df[\"Date\"].dt.month == 1][\"Total_Sales\"].sum()\n",
        "\n"
      ],
      "metadata": {
        "id": "EjBWLFdC1Wge"
      },
      "execution_count": null,
      "outputs": []
    },
    {
      "cell_type": "code",
      "source": [
        "import pandas as pd\n",
        "\n",
        "data = {\n",
        "    \"Order_ID\": [1001, 1002, 1003, 1004, 1005],\n",
        "    \"Product\": [\"Smartphone\", \"Laptop\", \"Desk Chair\", \"Monitor\", \"Coffee Table\"],\n",
        "    \"Category\": [\"Electronics\", \"Electronics\", \"Furniture\", \"Electronics\", \"Furniture\"],\n",
        "    \"Quantity\": [2, 1, 3, 2, 1],\n",
        "    \"Price\": [500.00, 1200.00, 150.00, 300.00, 250.00],\n",
        "    \"Total_Sales\": [1000.00, 1200.00, 450.00, 600.00, 250.00],\n",
        "    \"Date\": [\"2023-01-15\", \"2023-01-17\", \"2023-01-18\", \"2023-01-20\", \"2023-01-22\"],\n",
        "    \"Region\": [\"East\", \"West\", \"North\", \"South\", \"East\"]\n",
        "}\n",
        "\n",
        "# 1. 將數據轉換為 Pandas 的 DataFrame\n",
        "df = pd.DataFrame(data)\n",
        "\n",
        "# 2. 完成分析\n",
        "# (a) 哪個類別（Category）的銷售總額（Total_Sales）最高？\n",
        "category_sales = df.groupby(\"Category\")[\"Total_Sales\"].sum()\n",
        "top_category = category_sales.idxmax()\n",
        "\n",
        "# (b) 哪個地區（Region）的銷售筆數（Order_ID）最多？\n",
        "region_sales_count = df.groupby(\"Region\")[\"Order_ID\"].count()\n",
        "top_region = region_sales_count.idxmax()\n",
        "\n",
        "# (c) 1 月份（Date 在 2023 年 1 月）的銷售總額是多少？\n",
        "df[\"Date\"] = pd.to_datetime(df[\"Date\"])\n",
        "january_sales = df[df[\"Date\"].dt.month == 1][\"Total_Sales\"].sum()\n",
        "\n",
        "# 3. 建立新的 DataFrame\n",
        "summary_df = df.groupby(\"Category\").agg(\n",
        "    Total_Sales=(\"Total_Sales\", \"sum\"),\n",
        "    Average_Price=(\"Price\", \"mean\")\n",
        ").reset_index()"
      ],
      "metadata": {
        "id": "2Fi-1Vqn1iXF"
      },
      "execution_count": null,
      "outputs": []
    },
    {
      "cell_type": "code",
      "execution_count": 6,
      "metadata": {
        "colab": {
          "base_uri": "https://localhost:8080/"
        },
        "id": "ZIG4OI_uziOn",
        "outputId": "172af362-0d97-48f1-d3d1-00b73778488f"
      },
      "outputs": [
        {
          "output_type": "stream",
          "name": "stdout",
          "text": [
            "銷售總額最高的類別：Electronics\n",
            "銷售筆數最多的地區：East\n",
            "1 月份銷售總額：3500.00\n",
            "\n",
            "新數據表：\n",
            "   Category  Total_Sales  Average_Price\n",
            "Electronics       2800.0         666.67\n",
            "  Furniture        700.0         200.00\n"
          ]
        }
      ],
      "source": [
        "import pandas as pd\n",
        "\n",
        "data = {\n",
        "    \"Order_ID\": [1001, 1002, 1003, 1004, 1005],\n",
        "    \"Product\": [\"Smartphone\", \"Laptop\", \"Desk Chair\", \"Monitor\", \"Coffee Table\"],\n",
        "    \"Category\": [\"Electronics\", \"Electronics\", \"Furniture\", \"Electronics\", \"Furniture\"],\n",
        "    \"Quantity\": [2, 1, 3, 2, 1],\n",
        "    \"Price\": [500.00, 1200.00, 150.00, 300.00, 250.00],\n",
        "    \"Total_Sales\": [1000.00, 1200.00, 450.00, 600.00, 250.00],\n",
        "    \"Date\": [\"2023-01-15\", \"2023-01-17\", \"2023-01-18\", \"2023-01-20\", \"2023-01-22\"],\n",
        "    \"Region\": [\"East\", \"West\", \"North\", \"South\", \"East\"]\n",
        "}\n",
        "\n",
        "# 1. 將數據轉換為 Pandas 的 DataFrame\n",
        "df = pd.DataFrame(data)\n",
        "\n",
        "# 2. 完成分析\n",
        "# (a) 哪個類別（Category）的銷售總額（Total_Sales）最高？\n",
        "category_sales = df.groupby(\"Category\")[\"Total_Sales\"].sum()\n",
        "top_category = category_sales.idxmax()\n",
        "\n",
        "# (b) 哪個地區（Region）的銷售筆數（Order_ID）最多？\n",
        "region_sales_count = df.groupby(\"Region\")[\"Order_ID\"].count()\n",
        "top_region = region_sales_count.idxmax()\n",
        "\n",
        "# (c) 1 月份（Date 在 2023 年 1 月）的銷售總額是多少？\n",
        "df[\"Date\"] = pd.to_datetime(df[\"Date\"])\n",
        "january_sales = df[df[\"Date\"].dt.month == 1][\"Total_Sales\"].sum()\n",
        "\n",
        "# 3. 建立新的 DataFrame\n",
        "summary_df = df.groupby(\"Category\").agg(\n",
        "    Total_Sales=(\"Total_Sales\", \"sum\"),\n",
        "    Average_Price=(\"Price\", \"mean\")\n",
        ").reset_index()\n",
        "\n",
        "summary_df[\"Total_Sales\"] = summary_df[\"Total_Sales\"].round(2)\n",
        "summary_df[\"Average_Price\"] = summary_df[\"Average_Price\"].round(2)\n",
        "\n",
        "# 4. 印出運算結果\n",
        "print(f\"銷售總額最高的類別：{top_category}\")\n",
        "print(f\"銷售筆數最多的地區：{top_region}\")\n",
        "print(f\"1 月份銷售總額：{january_sales:.2f}\")\n",
        "print(\"\\n新數據表：\")\n",
        "print(summary_df.to_string(index=False))\n"
      ]
    }
  ]
}