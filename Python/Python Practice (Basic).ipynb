{
 "cells": [
  {
   "cell_type": "markdown",
   "id": "476eb869",
   "metadata": {},
   "source": [
    "# Python Practice\n",
    "(the book L1) "
   ]
  },
  {
   "cell_type": "markdown",
   "id": "aa1707dd",
   "metadata": {},
   "source": [
    "## 基礎\n",
    "(Python vs C)"
   ]
  },
  {
   "cell_type": "code",
   "execution_count": 9,
   "id": "9505f50e",
   "metadata": {
    "scrolled": true
   },
   "outputs": [
    {
     "name": "stdout",
     "output_type": "stream",
     "text": [
      "abc\n",
      "100\n",
      "110.00000000000001\n",
      "110\n",
      "hello\n"
     ]
    }
   ],
   "source": [
    "print(\"abc\")       #printf(\"abc\")\n",
    "\n",
    "apple=100          #int apple=100;\n",
    "print(apple)       #printf(\"%d\\n\",apple);\n",
    "\n",
    "#有小數點\n",
    "tax_in=apple*1.1   #float tax_in=apple/1.1; //注意型態(int/flaot) //C要除以小數點才會有小數點且型態要正確\n",
    "print(tax_in)      #printf(\"%f\\n\",tax_in);\n",
    "\n",
    "#無小數點\n",
    "tax_in=int(tax_in) #int tax_in_2=apple*1.1; //要設新變數\n",
    "print(tax_in)      #printf(\"%d\\n\",tax_in_2);\n",
    "\n",
    "message=\"hello\"    #char message[]=\"hello\";\n",
    "print(message)     #printf(\"%s\\n\",message);"
   ]
  },
  {
   "cell_type": "code",
   "execution_count": 26,
   "id": "1aaafc5c",
   "metadata": {},
   "outputs": [
    {
     "name": "stdout",
     "output_type": "stream",
     "text": [
      "edw\n",
      "edw\n"
     ]
    }
   ],
   "source": [
    "#輸入\n",
    "apple=input()   \n",
    "print(apple)\n",
    "\n",
    "# C的寫法\n",
    "# char apple[10];\n",
    "# printf(\"輸入:\"); \n",
    "# scanf(\"%s\",&apple);\n",
    "# printf(\"%s\\n\",apple);"
   ]
  },
  {
   "cell_type": "code",
   "execution_count": 73,
   "id": "ab42e5b8",
   "metadata": {},
   "outputs": [
    {
     "name": "stdout",
     "output_type": "stream",
     "text": [
      "OK!\n"
     ]
    }
   ],
   "source": [
    "#條件判斷\n",
    "apple=100\n",
    "if apple==100:     # if(apple==100){\n",
    "    print(\"OK!\")   #    printf(\"OK!\\n\");} \n",
    "else:              # else\n",
    "    print(\"NO!\")   #    printf(\"NO!\\n\");"
   ]
  },
  {
   "cell_type": "code",
   "execution_count": 74,
   "id": "c3ab1b0e",
   "metadata": {
    "scrolled": false
   },
   "outputs": [
    {
     "name": "stdout",
     "output_type": "stream",
     "text": [
      "11\n",
      "12\n",
      "13\n",
      "14\n",
      "15\n",
      "16\n",
      "17\n",
      "18\n",
      "19\n"
     ]
    }
   ],
   "source": [
    "#迴圈\n",
    "                            # int i;\n",
    "for i in range(11,20):      # for(i=11;i<20;i++)\n",
    "    print(i)                #     printf(\"%d\\n\",i);"
   ]
  },
  {
   "cell_type": "code",
   "execution_count": 83,
   "id": "3bc14dcf",
   "metadata": {},
   "outputs": [
    {
     "name": "stdout",
     "output_type": "stream",
     "text": [
      "3.0\n",
      "5\n"
     ]
    }
   ],
   "source": [
    "#函式\n",
    "def average(alist):\n",
    "    sum=0\n",
    "    for i in alist:\n",
    "        sum+=i\n",
    "    return sum/len(alist)\n",
    "\n",
    "L=[1,2,3,4,5]\n",
    "print(average(L))\n",
    "print(len(L))\n",
    "\n",
    "#C的寫法\n",
    "\n",
    "#  #include<stdio.h>\n",
    "#  int average(char C[],int num){\n",
    "#      int sum=0,i;\n",
    "#      for(i=0;i<num;i++)\n",
    "#            sum+=C[i];\n",
    "#      return sum/num;\n",
    "#  }\n",
    "#  main(){\n",
    "#      char C[]={1,2,3,4,5};\n",
    "#      int ave=average(C,sizeof(C)); \n",
    "#      printf(\"%d\\n\",ave);\n",
    "#  } "
   ]
  },
  {
   "cell_type": "markdown",
   "id": "e8bfc645",
   "metadata": {},
   "source": [
    "## Python的基本資料型態\n",
    "tuple、list、dictionary"
   ]
  },
  {
   "cell_type": "code",
   "execution_count": 16,
   "id": "1a9c0f79",
   "metadata": {},
   "outputs": [
    {
     "name": "stdout",
     "output_type": "stream",
     "text": [
      "(100, 200)\n",
      "100\n",
      "(1,)\n",
      "[1, 2, 3, 4, 5]\n",
      "1\n"
     ]
    }
   ],
   "source": [
    "#tuple:immutable\n",
    "p1=(100,200)\n",
    "print(p1)\n",
    "print(p1[0])\n",
    "p1=(1,)       #如果tuple裡只有一個元素要這樣寫\n",
    "print(p1)"
   ]
  },
  {
   "cell_type": "code",
   "execution_count": 59,
   "id": "1a66ac51",
   "metadata": {
    "scrolled": false
   },
   "outputs": [
    {
     "name": "stdout",
     "output_type": "stream",
     "text": [
      "原串列: [1, 2, 3, 4, 5]\n",
      "更改第一個值: [100, 2, 3, 4, 5]\n",
      "新增一個值:200: [100, 2, 3, 4, 5, 200]\n",
      "將[0,6]延長至x: [100, 2, 3, 4, 5, 200, 0, 6]\n",
      "把2移除: [100, 3, 4, 5, 200, 0, 6]\n",
      "把第0個移除: [3, 4, 5, 200, 0, 6]\n",
      "把最後一個pop掉並輸出: [3, 4, 5, 200, 0]\n",
      "把第四個pop掉並輸出: [3, 4, 5, 0]\n",
      "翻轉: [0, 5, 4, 3]\n",
      "分類: [0, 3, 4, 5]\n"
     ]
    },
    {
     "data": {
      "text/plain": [
       "[0, 3, 4, 5]"
      ]
     },
     "execution_count": 59,
     "metadata": {},
     "output_type": "execute_result"
    }
   ],
   "source": [
    "#list\n",
    "x=[1,2,3,4,5]\n",
    "print(\"原串列:\",x)\n",
    "\n",
    "#直接更改第一個值\n",
    "x[0]=100  \n",
    "print(\"更改第一個值:\",x)\n",
    "\n",
    "#新增一個值:200\n",
    "x.append(200) \n",
    "print(\"新增一個值:200:\",x)\n",
    "\n",
    "#將此串列延長至x\n",
    "x.extend([0,6]) \n",
    "print(\"將[0,6]延長至x:\",x)\n",
    "\n",
    "#把2移除\n",
    "x.remove(2)\n",
    "print(\"把2移除:\",x)\n",
    "\n",
    "#把第0個移除\n",
    "del(x[0]) \n",
    "print(\"把第0個移除:\",x)\n",
    "\n",
    "#把最後一個pop掉並輸出\n",
    "x.pop() \n",
    "print(\"把最後一個pop掉並輸出:\",x)\n",
    "\n",
    "#把第四個pop掉並輸出\n",
    "x.pop(3) \n",
    "print(\"把第四個pop掉並輸出:\",x)\n",
    "\n",
    "#翻轉\n",
    "x.reverse()\n",
    "print(\"翻轉:\",x)\n",
    "\n",
    "#分類\n",
    "x.sort() #直接將x裡面的值更改並做分類\n",
    "print(\"分類:\",x)\n",
    "\n",
    "sorted(x) #會直接輸出分類的值，但不會更改x"
   ]
  },
  {
   "cell_type": "code",
   "execution_count": 46,
   "id": "f3aa8812",
   "metadata": {},
   "outputs": [
    {
     "name": "stdout",
     "output_type": "stream",
     "text": [
      "['1', ' ', '1', '1', ' ', '1', '1', '1']\n",
      "['1', '11', '111']\n",
      "['i ', '3 cs']\n",
      "abc\n",
      "a_b_c\n"
     ]
    }
   ],
   "source": [
    "#list、str互相轉換\n",
    "\n",
    "#str轉list\n",
    "s=\"1 11 111\"\n",
    "s=list(s)\n",
    "print(s)\n",
    "\n",
    "s1=\"1 11 111\"\n",
    "s1=s1.split(' ')  #以空格來分段 每遇到一個空格就隔成一個\n",
    "print(s1)\n",
    "\n",
    "s2=\"i <3 cs\"\n",
    "s2=s2.split('<')  #以<來分段 每遇到一個空格就隔成一個\n",
    "print(s2)\n",
    "\n",
    "#list轉str\n",
    "L=['a','b','c']   \n",
    "L=''.join(L) \n",
    "print(L)\n",
    "\n",
    "L1=['a','b','c']\n",
    "L1='_'.join(L1)\n",
    "print(L1)"
   ]
  },
  {
   "cell_type": "code",
   "execution_count": 71,
   "id": "7cf5adde",
   "metadata": {
    "scrolled": true
   },
   "outputs": [
    {
     "name": "stdout",
     "output_type": "stream",
     "text": [
      "A+\n",
      "{'Ana': 'A+', 'Bob': 'B++', 'Cathy': 'B', 'DD': 'B+'}\n",
      "{'Ana': 'A+', 'Bob': 'B++', 'Cathy': 'B'}\n",
      "dict_keys(['Ana', 'Bob', 'Cathy'])\n",
      "dict_values(['A+', 'B++', 'B'])\n",
      "{'Ana': 100, 'Bob': 100, 'Cathy': 80}\n"
     ]
    }
   ],
   "source": [
    "#dictionary\n",
    "grades={\"Ana\":\"A+\",\"Bob\":\"B++\",\"Cathy\":\"B\"}\n",
    "print(grades[\"Ana\"])\n",
    "\n",
    "#新增\n",
    "grades[\"DD\"]=\"B+\"\n",
    "print(grades)\n",
    "\n",
    "#刪除\n",
    "del(grades[\"DD\"])\n",
    "print(grades)\n",
    "\n",
    "print(grades.keys())\n",
    "print(grades.values())\n",
    "\n",
    "#另一個例子\n",
    "grades={\"Ana\":100,\"Bob\":90,\"Cathy\":80}\n",
    "grades[\"Bob\"]+=10\n",
    "print(grades)"
   ]
  },
  {
   "cell_type": "code",
   "execution_count": 23,
   "id": "a505fba4",
   "metadata": {},
   "outputs": [
    {
     "name": "stdout",
     "output_type": "stream",
     "text": [
      "NO\n"
     ]
    }
   ],
   "source": [
    "olaine=87\n",
    "\n",
    "if olaine>=100:\n",
    "    print(\"OK\")\n",
    "elif olaine>=50:\n",
    "    print(\"NO\")\n",
    "else:\n",
    "    print(\"yu\")"
   ]
  }
 ],
 "metadata": {
  "kernelspec": {
   "display_name": "Python 3 (ipykernel)",
   "language": "python",
   "name": "python3"
  },
  "language_info": {
   "codemirror_mode": {
    "name": "ipython",
    "version": 3
   },
   "file_extension": ".py",
   "mimetype": "text/x-python",
   "name": "python",
   "nbconvert_exporter": "python",
   "pygments_lexer": "ipython3",
   "version": "3.9.12"
  }
 },
 "nbformat": 4,
 "nbformat_minor": 5
}
